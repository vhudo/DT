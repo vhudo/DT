{
 "cells": [
  {
   "cell_type": "markdown",
   "id": "f71e9886",
   "metadata": {},
   "source": [
    "# My Jupyter Notebook on IBM Watson Studio"
   ]
  },
  {
   "cell_type": "markdown",
   "id": "a94465c5",
   "metadata": {},
   "source": [
    "**Vu Ho**\n",
    "<br>data analytics"
   ]
  },
  {
   "cell_type": "markdown",
   "id": "1cd498b0",
   "metadata": {},
   "source": [
    "*I am interested in data science because I can make a decision through data*"
   ]
  },
  {
   "cell_type": "markdown",
   "id": "383c3dc9",
   "metadata": {},
   "source": [
    "### the code next cell will be print hello world"
   ]
  },
  {
   "cell_type": "code",
   "execution_count": 1,
   "id": "7d2f39d6",
   "metadata": {},
   "outputs": [
    {
     "name": "stdout",
     "output_type": "stream",
     "text": [
      "hello world\n"
     ]
    }
   ],
   "source": [
    "print('hello world')"
   ]
  },
  {
   "attachments": {},
   "cell_type": "markdown",
   "id": "b78876db",
   "metadata": {},
   "source": [
    "# Menu\n",
    "\n",
    "---\n",
    "1. appetizers\n",
    "    * Savory Party Bread\n",
    "    * Teriyaki Pineapple Meatballs\n",
    "2. main\n",
    "    * [Baked salmon](https://www.bing.com/images/search?view=detailV2&ccid=8hvRiB5y&id=6A594609E061BF8C584E66140AA19A8B0B3B02A6&thid=OIP.8hvRiB5ysU1_i2a929RVjgHaLH&mediaurl=https%3a%2f%2fnatashaskitchen.com%2fwp-content%2fuploads%2f2012%2f06%2fBaked-Salmon-3.jpg&cdnurl=https%3a%2f%2fth.bing.com%2fth%2fid%2fR.f21bd1881e72b14d7f8b66bddbd4558e%3frik%3dpgI7C4uaoQoUZg%26pid%3dImgRaw%26r%3d0&exph=1800&expw=1200&q=Baked+salmon&simid=608011934861655317&FORM=IRPRST&ck=2C7A71EA416039FD2B720037131D83C8&selectedIndex=2![image.png](attachment:image.png))\n",
    "    * Chicken Quesadillas\n",
    "3. dessert\n",
    "    * Retro-Style Chocolate Sheet Cake\n",
    "    * Strawberry, Currant And Mint Tart With Mascarpone\n",
    "---"
   ]
  },
  {
   "cell_type": "code",
   "execution_count": null,
   "id": "496ed984",
   "metadata": {},
   "outputs": [],
   "source": []
  }
 ],
 "metadata": {
  "kernelspec": {
   "display_name": "Python 3 (ipykernel)",
   "language": "python",
   "name": "python3"
  },
  "language_info": {
   "codemirror_mode": {
    "name": "ipython",
    "version": 3
   },
   "file_extension": ".py",
   "mimetype": "text/x-python",
   "name": "python",
   "nbconvert_exporter": "python",
   "pygments_lexer": "ipython3",
   "version": "3.10.4"
  }
 },
 "nbformat": 4,
 "nbformat_minor": 5
}
